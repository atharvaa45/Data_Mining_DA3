{
 "cells": [
  {
   "cell_type": "code",
   "execution_count": 1,
   "id": "4f78c575",
   "metadata": {},
   "outputs": [],
   "source": [
    "#Atharva Honrao\n",
    "#21BDS0135"
   ]
  },
  {
   "cell_type": "code",
   "execution_count": 3,
   "id": "57a48322",
   "metadata": {},
   "outputs": [
    {
     "name": "stdout",
     "output_type": "stream",
     "text": [
      "Requirement already satisfied: mlxtend in c:\\users\\athyh\\anaconda3\\lib\\site-packages (0.23.1)\n",
      "Requirement already satisfied: joblib>=0.13.2 in c:\\users\\athyh\\anaconda3\\lib\\site-packages (from mlxtend) (1.4.2)\n",
      "Requirement already satisfied: scikit-learn>=1.0.2 in c:\\users\\athyh\\anaconda3\\lib\\site-packages (from mlxtend) (1.5.1)\n",
      "Requirement already satisfied: numpy>=1.16.2 in c:\\users\\athyh\\anaconda3\\lib\\site-packages (from mlxtend) (1.22.4)\n",
      "Requirement already satisfied: matplotlib>=3.0.0 in c:\\users\\athyh\\anaconda3\\lib\\site-packages (from mlxtend) (3.4.3)\n",
      "Requirement already satisfied: pandas>=0.24.2 in c:\\users\\athyh\\anaconda3\\lib\\site-packages (from mlxtend) (1.3.4)\n",
      "Requirement already satisfied: scipy>=1.2.1 in c:\\users\\athyh\\anaconda3\\lib\\site-packages (from mlxtend) (1.7.1)\n",
      "Requirement already satisfied: kiwisolver>=1.0.1 in c:\\users\\athyh\\anaconda3\\lib\\site-packages (from matplotlib>=3.0.0->mlxtend) (1.3.1)\n",
      "Requirement already satisfied: python-dateutil>=2.7 in c:\\users\\athyh\\anaconda3\\lib\\site-packages (from matplotlib>=3.0.0->mlxtend) (2.8.2)\n",
      "Requirement already satisfied: cycler>=0.10 in c:\\users\\athyh\\anaconda3\\lib\\site-packages (from matplotlib>=3.0.0->mlxtend) (0.10.0)\n",
      "Requirement already satisfied: pyparsing>=2.2.1 in c:\\users\\athyh\\anaconda3\\lib\\site-packages (from matplotlib>=3.0.0->mlxtend) (3.0.4)\n",
      "Requirement already satisfied: pillow>=6.2.0 in c:\\users\\athyh\\anaconda3\\lib\\site-packages (from matplotlib>=3.0.0->mlxtend) (10.2.0)\n",
      "Requirement already satisfied: six in c:\\users\\athyh\\anaconda3\\lib\\site-packages (from cycler>=0.10->matplotlib>=3.0.0->mlxtend) (1.16.0)\n",
      "Requirement already satisfied: pytz>=2017.3 in c:\\users\\athyh\\anaconda3\\lib\\site-packages (from pandas>=0.24.2->mlxtend) (2021.3)\n",
      "Requirement already satisfied: threadpoolctl>=3.1.0 in c:\\users\\athyh\\anaconda3\\lib\\site-packages (from scikit-learn>=1.0.2->mlxtend) (3.5.0)\n"
     ]
    }
   ],
   "source": [
    "!pip install mlxtend"
   ]
  },
  {
   "cell_type": "code",
   "execution_count": 4,
   "id": "b6e466c3",
   "metadata": {},
   "outputs": [],
   "source": [
    "import pandas as pd \n",
    "from mlxtend.frequent_patterns import apriori, association_rules"
   ]
  },
  {
   "cell_type": "code",
   "execution_count": 5,
   "id": "d5d22606",
   "metadata": {},
   "outputs": [],
   "source": [
    "# Define the transactional dataset \n",
    "dataset = { \n",
    "    'TID': ['T1', 'T2', 'T3', 'T4', 'T5', 'T6', 'T7', 'T8', 'T9'], \n",
    "    'items': [ \n",
    "        ['I1', 'I2', 'I5'], \n",
    "        ['I2', 'I4'], \n",
    "        ['I2', 'I3'], \n",
    "        ['I1', 'I2', 'I4'], \n",
    "        ['I1', 'I3'], \n",
    "        ['I2', 'I3'], \n",
    "        ['I1', 'I3'], \n",
    "        ['I1', 'I2', 'I3', 'I5'], \n",
    "        ['I1', 'I2', 'I3'] \n",
    "    ] \n",
    "}"
   ]
  },
  {
   "cell_type": "code",
   "execution_count": 6,
   "id": "f6eb005a",
   "metadata": {},
   "outputs": [],
   "source": [
    "# Convert dataset into a one-hot encoded DataFrame \n",
    "df = pd.DataFrame(dataset) \n",
    "df_items = df['items'].str.join('|').str.get_dummies() "
   ]
  },
  {
   "cell_type": "code",
   "execution_count": 7,
   "id": "65731268",
   "metadata": {},
   "outputs": [
    {
     "name": "stderr",
     "output_type": "stream",
     "text": [
      "C:\\Users\\athyh\\anaconda3\\lib\\site-packages\\mlxtend\\frequent_patterns\\fpcommon.py:109: DeprecationWarning: DataFrames with non-bool types result in worse computationalperformance and their support might be discontinued in the future.Please use a DataFrame with bool type\n",
      "  warnings.warn(\n"
     ]
    }
   ],
   "source": [
    "# Step 1: Find frequent itemsets with minimum support count 2 \n",
    "min_support = 2 / len(df)  # Convert support count to support percentage\n",
    "frequent_itemsets = apriori(df_items, min_support=min_support, use_colnames=True)"
   ]
  },
  {
   "cell_type": "code",
   "execution_count": 10,
   "id": "c7bfff48",
   "metadata": {},
   "outputs": [
    {
     "name": "stdout",
     "output_type": "stream",
     "text": [
      "Frequent Itemsets:\n",
      "     support      itemsets\n",
      "0   0.666667          (I1)\n",
      "1   0.777778          (I2)\n",
      "2   0.666667          (I3)\n",
      "3   0.222222          (I4)\n",
      "4   0.222222          (I5)\n",
      "5   0.444444      (I1, I2)\n",
      "6   0.444444      (I1, I3)\n",
      "7   0.222222      (I1, I5)\n",
      "8   0.444444      (I3, I2)\n",
      "9   0.222222      (I4, I2)\n",
      "10  0.222222      (I5, I2)\n",
      "11  0.222222  (I1, I3, I2)\n",
      "12  0.222222  (I1, I5, I2)\n"
     ]
    }
   ],
   "source": [
    "# Display the results \n",
    "print(\"Frequent Itemsets:\") \n",
    "print(frequent_itemsets) "
   ]
  },
  {
   "cell_type": "code",
   "execution_count": 8,
   "id": "96bf074d",
   "metadata": {},
   "outputs": [],
   "source": [
    "# Step 2: Generate association rules with minimum confidence of 60% \n",
    "rules = association_rules(frequent_itemsets, metric=\"confidence\", min_threshold=0.6)"
   ]
  },
  {
   "cell_type": "code",
   "execution_count": 11,
   "id": "9b4657b8",
   "metadata": {},
   "outputs": [
    {
     "name": "stdout",
     "output_type": "stream",
     "text": [
      "\n",
      "Association Rules:\n",
      "  antecedents consequents   support  confidence      lift\n",
      "0        (I1)        (I2)  0.444444    0.666667  0.857143\n",
      "1        (I1)        (I3)  0.444444    0.666667  1.000000\n",
      "2        (I3)        (I1)  0.444444    0.666667  1.000000\n",
      "3        (I5)        (I1)  0.222222    1.000000  1.500000\n",
      "4        (I3)        (I2)  0.444444    0.666667  0.857143\n",
      "5        (I4)        (I2)  0.222222    1.000000  1.285714\n",
      "6        (I5)        (I2)  0.222222    1.000000  1.285714\n",
      "7    (I1, I5)        (I2)  0.222222    1.000000  1.285714\n",
      "8    (I5, I2)        (I1)  0.222222    1.000000  1.500000\n",
      "9        (I5)    (I1, I2)  0.222222    1.000000  2.250000\n"
     ]
    }
   ],
   "source": [
    "print(\"\\nAssociation Rules:\") \n",
    "print(rules[['antecedents', 'consequents', 'support', 'confidence', 'lift']])"
   ]
  },
  {
   "cell_type": "code",
   "execution_count": null,
   "id": "3f00450b",
   "metadata": {},
   "outputs": [],
   "source": []
  }
 ],
 "metadata": {
  "kernelspec": {
   "display_name": "Python 3 (ipykernel)",
   "language": "python",
   "name": "python3"
  },
  "language_info": {
   "codemirror_mode": {
    "name": "ipython",
    "version": 3
   },
   "file_extension": ".py",
   "mimetype": "text/x-python",
   "name": "python",
   "nbconvert_exporter": "python",
   "pygments_lexer": "ipython3",
   "version": "3.9.19"
  }
 },
 "nbformat": 4,
 "nbformat_minor": 5
}
